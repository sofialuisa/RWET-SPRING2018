{
 "cells": [
  {
   "cell_type": "markdown",
   "metadata": {},
   "source": [
    "# RWET HOMEWORK WEEK 5 - Sofía Suazo \n",
    "\n",
    "#### For this assignment i'm amming to make an \"spanglish\" poem out of a sort of conversation between two poems about the same subject from two different poets in two different languages. Im using Sylvia Plath's \"Two Lovers And A Beachcomber By The Real Sea\" and Alfonsina Storni's \"Frente Al Mar\"."
   ]
  },
  {
   "cell_type": "code",
   "execution_count": 2,
   "metadata": {
    "collapsed": true
   },
   "outputs": [],
   "source": [
    "poem_sylvia = [line.strip() for line in open(\"two_lovers_sylvia_plath.txt\")]"
   ]
  },
  {
   "cell_type": "code",
   "execution_count": 3,
   "metadata": {},
   "outputs": [
    {
     "data": {
      "text/plain": [
       "['Cold and final, the imagination',\n",
       " 'Shuts down its fabled summer house;',\n",
       " 'Blue views are boarded up; our sweet vacation',\n",
       " 'Dwindles in the hour-glass.',\n",
       " '',\n",
       " 'Thoughts that found a maze of mermaid hair',\n",
       " \"Tangling in the tide's green fall\",\n",
       " 'Now fold their wings like bats and disappear',\n",
       " 'Into the attic of the skull.',\n",
       " '',\n",
       " 'We are not what we might be; what we are',\n",
       " 'Outlaws all extrapolation',\n",
       " 'Beyond the interval of now and here:',\n",
       " 'White whales are gone with the white ocean.',\n",
       " '',\n",
       " 'A lone beachcomber squats among the wrack',\n",
       " 'Of kaleidoscope shells',\n",
       " 'Probing fractured Venus with a stick',\n",
       " 'Under a tent of taunting gulls.',\n",
       " '',\n",
       " 'No sea-change decks the sunken shank of bone',\n",
       " 'That chucks in backtrack of the wave;',\n",
       " 'Though the mind like an oyster labors on and on,',\n",
       " 'A grain of sand is all we have.',\n",
       " '',\n",
       " 'Water will run by; the actual sun',\n",
       " 'Will scrupulously rise and set;',\n",
       " 'No little man lives in the exacting moon',\n",
       " 'And that is that, is that, is that.']"
      ]
     },
     "execution_count": 3,
     "metadata": {},
     "output_type": "execute_result"
    }
   ],
   "source": [
    "poem_sylvia"
   ]
  },
  {
   "cell_type": "code",
   "execution_count": 4,
   "metadata": {
    "collapsed": true
   },
   "outputs": [],
   "source": [
    "poem_alfonsina = [line.strip() for line in open(\"frente_al_mar_alfonsina_storni.txt\")]"
   ]
  },
  {
   "cell_type": "code",
   "execution_count": 6,
   "metadata": {},
   "outputs": [
    {
     "data": {
      "text/plain": [
       "['',\n",
       " 'Oh mar, enorme mar, corazón fiero',\n",
       " 'De ritmo desigual, corazón malo,',\n",
       " 'Yo soy más blanda que ese pobre palo',\n",
       " 'Que se pudre en tus ondas prisionero.',\n",
       " '',\n",
       " 'Oh mar, dame tu cólera tremenda,',\n",
       " 'Yo me pasé la vida perdonando,',\n",
       " 'Porque entendía, mar, yo me fui dando:',\n",
       " '«Piedad, piedad para el que más ofenda».',\n",
       " '',\n",
       " 'Vulgaridad, vulgaridad me acosa.',\n",
       " 'Ah, me han comprado la ciudad y el hombre.',\n",
       " 'Hazme tener tu cólera sin nombre:',\n",
       " 'Ya me fatiga esta misión de rosa.',\n",
       " '',\n",
       " '¿Ves al vulgar? Ese vulgar me apena,',\n",
       " 'Me falta el aire y donde falta quedo,',\n",
       " 'Quisiera no entender, pero no puedo:',\n",
       " 'Es la vulgaridad que me envenena.',\n",
       " '',\n",
       " 'Me empobrecí porque entender abruma,',\n",
       " 'Me empobrecí porque entender sofoca,',\n",
       " '¡Bendecida la fuerza de la roca!',\n",
       " 'Yo tengo el corazón como la espuma.',\n",
       " '',\n",
       " 'Mar, yo soñaba ser como tú eres,',\n",
       " 'Allá en las tardes que la vida mía',\n",
       " 'Bajo las horas cálidas se abría...',\n",
       " 'Ah, yo soñaba ser como tú eres.',\n",
       " '',\n",
       " 'Mírame aquí, pequeña, miserable,',\n",
       " 'Todo dolor me vence, todo sueño;',\n",
       " 'Mar, dame, dame el inefable empeño',\n",
       " 'De tornarme soberbia, inalcanzable.',\n",
       " '',\n",
       " 'Dame tu sal, tu yodo, tu fiereza.',\n",
       " '¡Aire de mar!... ¡Oh, tempestad! ¡Oh enojo!',\n",
       " 'Desdichada de mí, soy un abrojo,',\n",
       " 'Y muero, mar, sucumbo en mi pobreza.',\n",
       " '',\n",
       " 'Y el alma mía es como el mar, es eso,',\n",
       " 'Ah, la ciudad la pudre y la equivoca;',\n",
       " 'Pequeña vida que dolor provoca,',\n",
       " '¡Que pueda libertarme de su peso!',\n",
       " '',\n",
       " 'Vuele mi empeño, mi esperanza vuele...',\n",
       " 'La vida mía debió ser horrible,',\n",
       " 'Debió ser una arteria incontenible',\n",
       " 'Y apenas es cicatriz que siempre duele.']"
      ]
     },
     "execution_count": 6,
     "metadata": {},
     "output_type": "execute_result"
    }
   ],
   "source": [
    "poem_alfonsina"
   ]
  },
  {
   "cell_type": "code",
   "execution_count": 7,
   "metadata": {
    "collapsed": true
   },
   "outputs": [],
   "source": [
    "all_lines = poem_sylvia + poem_alfonsina"
   ]
  },
  {
   "cell_type": "code",
   "execution_count": 10,
   "metadata": {},
   "outputs": [
    {
     "data": {
      "text/plain": [
       "['Cold and final, the imagination',\n",
       " 'Shuts down its fabled summer house;',\n",
       " 'Blue views are boarded up; our sweet vacation',\n",
       " 'Dwindles in the hour-glass.',\n",
       " '',\n",
       " 'Thoughts that found a maze of mermaid hair',\n",
       " \"Tangling in the tide's green fall\",\n",
       " 'Now fold their wings like bats and disappear',\n",
       " 'Into the attic of the skull.',\n",
       " '',\n",
       " 'We are not what we might be; what we are',\n",
       " 'Outlaws all extrapolation',\n",
       " 'Beyond the interval of now and here:',\n",
       " 'White whales are gone with the white ocean.',\n",
       " '',\n",
       " 'A lone beachcomber squats among the wrack',\n",
       " 'Of kaleidoscope shells',\n",
       " 'Probing fractured Venus with a stick',\n",
       " 'Under a tent of taunting gulls.',\n",
       " '',\n",
       " 'No sea-change decks the sunken shank of bone',\n",
       " 'That chucks in backtrack of the wave;',\n",
       " 'Though the mind like an oyster labors on and on,',\n",
       " 'A grain of sand is all we have.',\n",
       " '',\n",
       " 'Water will run by; the actual sun',\n",
       " 'Will scrupulously rise and set;',\n",
       " 'No little man lives in the exacting moon',\n",
       " 'And that is that, is that, is that.',\n",
       " '',\n",
       " 'Oh mar, enorme mar, corazón fiero',\n",
       " 'De ritmo desigual, corazón malo,',\n",
       " 'Yo soy más blanda que ese pobre palo',\n",
       " 'Que se pudre en tus ondas prisionero.',\n",
       " '',\n",
       " 'Oh mar, dame tu cólera tremenda,',\n",
       " 'Yo me pasé la vida perdonando,',\n",
       " 'Porque entendía, mar, yo me fui dando:',\n",
       " '«Piedad, piedad para el que más ofenda».',\n",
       " '',\n",
       " 'Vulgaridad, vulgaridad me acosa.',\n",
       " 'Ah, me han comprado la ciudad y el hombre.',\n",
       " 'Hazme tener tu cólera sin nombre:',\n",
       " 'Ya me fatiga esta misión de rosa.',\n",
       " '',\n",
       " '¿Ves al vulgar? Ese vulgar me apena,',\n",
       " 'Me falta el aire y donde falta quedo,',\n",
       " 'Quisiera no entender, pero no puedo:',\n",
       " 'Es la vulgaridad que me envenena.',\n",
       " '',\n",
       " 'Me empobrecí porque entender abruma,',\n",
       " 'Me empobrecí porque entender sofoca,',\n",
       " '¡Bendecida la fuerza de la roca!',\n",
       " 'Yo tengo el corazón como la espuma.',\n",
       " '',\n",
       " 'Mar, yo soñaba ser como tú eres,',\n",
       " 'Allá en las tardes que la vida mía',\n",
       " 'Bajo las horas cálidas se abría...',\n",
       " 'Ah, yo soñaba ser como tú eres.',\n",
       " '',\n",
       " 'Mírame aquí, pequeña, miserable,',\n",
       " 'Todo dolor me vence, todo sueño;',\n",
       " 'Mar, dame, dame el inefable empeño',\n",
       " 'De tornarme soberbia, inalcanzable.',\n",
       " '',\n",
       " 'Dame tu sal, tu yodo, tu fiereza.',\n",
       " '¡Aire de mar!... ¡Oh, tempestad! ¡Oh enojo!',\n",
       " 'Desdichada de mí, soy un abrojo,',\n",
       " 'Y muero, mar, sucumbo en mi pobreza.',\n",
       " '',\n",
       " 'Y el alma mía es como el mar, es eso,',\n",
       " 'Ah, la ciudad la pudre y la equivoca;',\n",
       " 'Pequeña vida que dolor provoca,',\n",
       " '¡Que pueda libertarme de su peso!',\n",
       " '',\n",
       " 'Vuele mi empeño, mi esperanza vuele...',\n",
       " 'La vida mía debió ser horrible,',\n",
       " 'Debió ser una arteria incontenible',\n",
       " 'Y apenas es cicatriz que siempre duele.']"
      ]
     },
     "execution_count": 10,
     "metadata": {},
     "output_type": "execute_result"
    }
   ],
   "source": [
    "all_lines"
   ]
  },
  {
   "cell_type": "code",
   "execution_count": 14,
   "metadata": {
    "collapsed": true
   },
   "outputs": [],
   "source": [
    "import random\n",
    "random.shuffle(all_lines)"
   ]
  },
  {
   "cell_type": "code",
   "execution_count": 15,
   "metadata": {},
   "outputs": [
    {
     "data": {
      "text/plain": [
       "['La vida mía debió ser horrible,',\n",
       " 'Ah, me han comprado la ciudad y el hombre.',\n",
       " 'Now fold their wings like bats and disappear',\n",
       " 'Mírame aquí, pequeña, miserable,',\n",
       " 'Oh mar, dame tu cólera tremenda,',\n",
       " 'Ah, la ciudad la pudre y la equivoca;',\n",
       " '',\n",
       " 'Probing fractured Venus with a stick',\n",
       " 'A grain of sand is all we have.',\n",
       " '¿Ves al vulgar? Ese vulgar me apena,',\n",
       " 'Into the attic of the skull.',\n",
       " 'Todo dolor me vence, todo sueño;',\n",
       " 'Bajo las horas cálidas se abría...',\n",
       " 'Ah, yo soñaba ser como tú eres.',\n",
       " '',\n",
       " '¡Bendecida la fuerza de la roca!',\n",
       " 'We are not what we might be; what we are',\n",
       " 'Yo me pasé la vida perdonando,',\n",
       " 'No sea-change decks the sunken shank of bone',\n",
       " 'Y muero, mar, sucumbo en mi pobreza.',\n",
       " 'Porque entendía, mar, yo me fui dando:',\n",
       " 'Quisiera no entender, pero no puedo:',\n",
       " 'Debió ser una arteria incontenible',\n",
       " 'Mar, yo soñaba ser como tú eres,',\n",
       " 'Mar, dame, dame el inefable empeño',\n",
       " '',\n",
       " 'Yo tengo el corazón como la espuma.',\n",
       " 'Dame tu sal, tu yodo, tu fiereza.',\n",
       " '',\n",
       " 'Ya me fatiga esta misión de rosa.',\n",
       " '',\n",
       " '',\n",
       " 'Under a tent of taunting gulls.',\n",
       " 'Will scrupulously rise and set;',\n",
       " 'Thoughts that found a maze of mermaid hair',\n",
       " 'Me empobrecí porque entender sofoca,',\n",
       " '«Piedad, piedad para el que más ofenda».',\n",
       " 'Blue views are boarded up; our sweet vacation',\n",
       " 'Que se pudre en tus ondas prisionero.',\n",
       " 'Me empobrecí porque entender abruma,',\n",
       " \"Tangling in the tide's green fall\",\n",
       " 'Vulgaridad, vulgaridad me acosa.',\n",
       " 'White whales are gone with the white ocean.',\n",
       " 'A lone beachcomber squats among the wrack',\n",
       " 'Dwindles in the hour-glass.',\n",
       " '¡Que pueda libertarme de su peso!',\n",
       " 'And that is that, is that, is that.',\n",
       " '',\n",
       " 'That chucks in backtrack of the wave;',\n",
       " 'Vuele mi empeño, mi esperanza vuele...',\n",
       " 'Y el alma mía es como el mar, es eso,',\n",
       " 'Beyond the interval of now and here:',\n",
       " 'Hazme tener tu cólera sin nombre:',\n",
       " '',\n",
       " '',\n",
       " 'De ritmo desigual, corazón malo,',\n",
       " '',\n",
       " 'Cold and final, the imagination',\n",
       " 'No little man lives in the exacting moon',\n",
       " '',\n",
       " '¡Aire de mar!... ¡Oh, tempestad! ¡Oh enojo!',\n",
       " 'Desdichada de mí, soy un abrojo,',\n",
       " '',\n",
       " 'De tornarme soberbia, inalcanzable.',\n",
       " 'Me falta el aire y donde falta quedo,',\n",
       " 'Pequeña vida que dolor provoca,',\n",
       " 'Es la vulgaridad que me envenena.',\n",
       " 'Shuts down its fabled summer house;',\n",
       " 'Y apenas es cicatriz que siempre duele.',\n",
       " '',\n",
       " 'Oh mar, enorme mar, corazón fiero',\n",
       " 'Water will run by; the actual sun',\n",
       " '',\n",
       " 'Yo soy más blanda que ese pobre palo',\n",
       " 'Outlaws all extrapolation',\n",
       " 'Allá en las tardes que la vida mía',\n",
       " 'Of kaleidoscope shells',\n",
       " 'Though the mind like an oyster labors on and on,',\n",
       " '']"
      ]
     },
     "execution_count": 15,
     "metadata": {},
     "output_type": "execute_result"
    }
   ],
   "source": [
    "all_lines"
   ]
  },
  {
   "cell_type": "markdown",
   "metadata": {},
   "source": [
    "### Sonet (combinating all the lines from both poems)"
   ]
  },
  {
   "cell_type": "code",
   "execution_count": 63,
   "metadata": {},
   "outputs": [
    {
     "name": "stdout",
     "output_type": "stream",
     "text": [
      "\n",
      "¡Que pueda libertarme de su peso!\n",
      "Tangling in the tide's green fall\n",
      "Vulgaridad, vulgaridad me acosa.\n",
      "Y apenas es cicatriz que siempre duele.\n",
      "Water will run by; the actual sun\n",
      "Dwindles in the hour-glass.\n",
      "Que se pudre en tus ondas prisionero.\n",
      "Porque entendía, mar, yo me fui dando:\n",
      "\n",
      "\n",
      "Into the attic of the skull.\n",
      "Me empobrecí porque entender sofoca,\n",
      "Will scrupulously rise and set;\n"
     ]
    }
   ],
   "source": [
    "random_sonnet = random.sample(all_lines, 14)\n",
    "print('\\n'.join(random_sonnet))"
   ]
  },
  {
   "cell_type": "code",
   "execution_count": 26,
   "metadata": {
    "collapsed": true
   },
   "outputs": [],
   "source": [
    "poem_clean_sylvia = [line for line in poem_sylvia if line != \"\"]"
   ]
  },
  {
   "cell_type": "code",
   "execution_count": 27,
   "metadata": {},
   "outputs": [
    {
     "data": {
      "text/plain": [
       "['Cold and final, the imagination',\n",
       " 'Shuts down its fabled summer house;',\n",
       " 'Blue views are boarded up; our sweet vacation',\n",
       " 'Dwindles in the hour-glass.',\n",
       " 'Thoughts that found a maze of mermaid hair',\n",
       " \"Tangling in the tide's green fall\",\n",
       " 'Now fold their wings like bats and disappear',\n",
       " 'Into the attic of the skull.',\n",
       " 'We are not what we might be; what we are',\n",
       " 'Outlaws all extrapolation',\n",
       " 'Beyond the interval of now and here:',\n",
       " 'White whales are gone with the white ocean.',\n",
       " 'A lone beachcomber squats among the wrack',\n",
       " 'Of kaleidoscope shells',\n",
       " 'Probing fractured Venus with a stick',\n",
       " 'Under a tent of taunting gulls.',\n",
       " 'No sea-change decks the sunken shank of bone',\n",
       " 'That chucks in backtrack of the wave;',\n",
       " 'Though the mind like an oyster labors on and on,',\n",
       " 'A grain of sand is all we have.',\n",
       " 'Water will run by; the actual sun',\n",
       " 'Will scrupulously rise and set;',\n",
       " 'No little man lives in the exacting moon',\n",
       " 'And that is that, is that, is that.']"
      ]
     },
     "execution_count": 27,
     "metadata": {},
     "output_type": "execute_result"
    }
   ],
   "source": [
    "poem_clean_sylvia"
   ]
  },
  {
   "cell_type": "code",
   "execution_count": 29,
   "metadata": {
    "collapsed": true
   },
   "outputs": [],
   "source": [
    "poem_clean_alfonsina = [line for line in poem_alfonsina if line != \"\"]"
   ]
  },
  {
   "cell_type": "code",
   "execution_count": 30,
   "metadata": {},
   "outputs": [
    {
     "data": {
      "text/plain": [
       "['Oh mar, enorme mar, corazón fiero',\n",
       " 'De ritmo desigual, corazón malo,',\n",
       " 'Yo soy más blanda que ese pobre palo',\n",
       " 'Que se pudre en tus ondas prisionero.',\n",
       " 'Oh mar, dame tu cólera tremenda,',\n",
       " 'Yo me pasé la vida perdonando,',\n",
       " 'Porque entendía, mar, yo me fui dando:',\n",
       " '«Piedad, piedad para el que más ofenda».',\n",
       " 'Vulgaridad, vulgaridad me acosa.',\n",
       " 'Ah, me han comprado la ciudad y el hombre.',\n",
       " 'Hazme tener tu cólera sin nombre:',\n",
       " 'Ya me fatiga esta misión de rosa.',\n",
       " '¿Ves al vulgar? Ese vulgar me apena,',\n",
       " 'Me falta el aire y donde falta quedo,',\n",
       " 'Quisiera no entender, pero no puedo:',\n",
       " 'Es la vulgaridad que me envenena.',\n",
       " 'Me empobrecí porque entender abruma,',\n",
       " 'Me empobrecí porque entender sofoca,',\n",
       " '¡Bendecida la fuerza de la roca!',\n",
       " 'Yo tengo el corazón como la espuma.',\n",
       " 'Mar, yo soñaba ser como tú eres,',\n",
       " 'Allá en las tardes que la vida mía',\n",
       " 'Bajo las horas cálidas se abría...',\n",
       " 'Ah, yo soñaba ser como tú eres.',\n",
       " 'Mírame aquí, pequeña, miserable,',\n",
       " 'Todo dolor me vence, todo sueño;',\n",
       " 'Mar, dame, dame el inefable empeño',\n",
       " 'De tornarme soberbia, inalcanzable.',\n",
       " 'Dame tu sal, tu yodo, tu fiereza.',\n",
       " '¡Aire de mar!... ¡Oh, tempestad! ¡Oh enojo!',\n",
       " 'Desdichada de mí, soy un abrojo,',\n",
       " 'Y muero, mar, sucumbo en mi pobreza.',\n",
       " 'Y el alma mía es como el mar, es eso,',\n",
       " 'Ah, la ciudad la pudre y la equivoca;',\n",
       " 'Pequeña vida que dolor provoca,',\n",
       " '¡Que pueda libertarme de su peso!',\n",
       " 'Vuele mi empeño, mi esperanza vuele...',\n",
       " 'La vida mía debió ser horrible,',\n",
       " 'Debió ser una arteria incontenible',\n",
       " 'Y apenas es cicatriz que siempre duele.']"
      ]
     },
     "execution_count": 30,
     "metadata": {},
     "output_type": "execute_result"
    }
   ],
   "source": [
    "poem_clean_alfonsina"
   ]
  },
  {
   "cell_type": "code",
   "execution_count": 31,
   "metadata": {
    "collapsed": true
   },
   "outputs": [],
   "source": [
    "poem_clean_both = poem_clean_sylvia + poem_clean_alfonsina"
   ]
  },
  {
   "cell_type": "code",
   "execution_count": 64,
   "metadata": {},
   "outputs": [
    {
     "data": {
      "text/plain": [
       "['Cold and final, the imagination',\n",
       " 'Shuts down its fabled summer house;',\n",
       " 'Blue views are boarded up; our sweet vacation',\n",
       " 'Dwindles in the hour-glass.',\n",
       " 'Thoughts that found a maze of mermaid hair',\n",
       " \"Tangling in the tide's green fall\",\n",
       " 'Now fold their wings like bats and disappear',\n",
       " 'Into the attic of the skull.',\n",
       " 'We are not what we might be; what we are',\n",
       " 'Outlaws all extrapolation',\n",
       " 'Beyond the interval of now and here:',\n",
       " 'White whales are gone with the white ocean.',\n",
       " 'A lone beachcomber squats among the wrack',\n",
       " 'Of kaleidoscope shells',\n",
       " 'Probing fractured Venus with a stick',\n",
       " 'Under a tent of taunting gulls.',\n",
       " 'No sea-change decks the sunken shank of bone',\n",
       " 'That chucks in backtrack of the wave;',\n",
       " 'Though the mind like an oyster labors on and on,',\n",
       " 'A grain of sand is all we have.',\n",
       " 'Water will run by; the actual sun',\n",
       " 'Will scrupulously rise and set;',\n",
       " 'No little man lives in the exacting moon',\n",
       " 'And that is that, is that, is that.',\n",
       " 'Oh mar, enorme mar, corazón fiero',\n",
       " 'De ritmo desigual, corazón malo,',\n",
       " 'Yo soy más blanda que ese pobre palo',\n",
       " 'Que se pudre en tus ondas prisionero.',\n",
       " 'Oh mar, dame tu cólera tremenda,',\n",
       " 'Yo me pasé la vida perdonando,',\n",
       " 'Porque entendía, mar, yo me fui dando:',\n",
       " '«Piedad, piedad para el que más ofenda».',\n",
       " 'Vulgaridad, vulgaridad me acosa.',\n",
       " 'Ah, me han comprado la ciudad y el hombre.',\n",
       " 'Hazme tener tu cólera sin nombre:',\n",
       " 'Ya me fatiga esta misión de rosa.',\n",
       " '¿Ves al vulgar? Ese vulgar me apena,',\n",
       " 'Me falta el aire y donde falta quedo,',\n",
       " 'Quisiera no entender, pero no puedo:',\n",
       " 'Es la vulgaridad que me envenena.',\n",
       " 'Me empobrecí porque entender abruma,',\n",
       " 'Me empobrecí porque entender sofoca,',\n",
       " '¡Bendecida la fuerza de la roca!',\n",
       " 'Yo tengo el corazón como la espuma.',\n",
       " 'Mar, yo soñaba ser como tú eres,',\n",
       " 'Allá en las tardes que la vida mía',\n",
       " 'Bajo las horas cálidas se abría...',\n",
       " 'Ah, yo soñaba ser como tú eres.',\n",
       " 'Mírame aquí, pequeña, miserable,',\n",
       " 'Todo dolor me vence, todo sueño;',\n",
       " 'Mar, dame, dame el inefable empeño',\n",
       " 'De tornarme soberbia, inalcanzable.',\n",
       " 'Dame tu sal, tu yodo, tu fiereza.',\n",
       " '¡Aire de mar!... ¡Oh, tempestad! ¡Oh enojo!',\n",
       " 'Desdichada de mí, soy un abrojo,',\n",
       " 'Y muero, mar, sucumbo en mi pobreza.',\n",
       " 'Y el alma mía es como el mar, es eso,',\n",
       " 'Ah, la ciudad la pudre y la equivoca;',\n",
       " 'Pequeña vida que dolor provoca,',\n",
       " '¡Que pueda libertarme de su peso!',\n",
       " 'Vuele mi empeño, mi esperanza vuele...',\n",
       " 'La vida mía debió ser horrible,',\n",
       " 'Debió ser una arteria incontenible',\n",
       " 'Y apenas es cicatriz que siempre duele.']"
      ]
     },
     "execution_count": 64,
     "metadata": {},
     "output_type": "execute_result"
    }
   ],
   "source": [
    "poem_clean_both"
   ]
  },
  {
   "cell_type": "markdown",
   "metadata": {},
   "source": [
    "### Random lines poem (combining two poems)"
   ]
  },
  {
   "cell_type": "code",
   "execution_count": 219,
   "metadata": {},
   "outputs": [
    {
     "name": "stdout",
     "output_type": "stream",
     "text": [
      "Yo soy más blanda que ese pobre palo\n",
      "Yo tengo el corazón como la espuma.\n",
      "Mírame aquí, pequeña, miserable,\n",
      "Ah, la ciudad la pudre y la equivoca;\n",
      "Blue views are boarded up; our sweet vacation\n",
      "Y muero, mar, sucumbo en mi pobreza.\n",
      "Y apenas es cicatriz que siempre duele.\n",
      "We are not what we might be; what we are\n",
      "¿Ves al vulgar? Ese vulgar me apena,\n",
      "Quisiera no entender, pero no puedo:\n",
      "«Piedad, piedad para el que más ofenda».\n",
      "Me empobrecí porque entender sofoca,\n",
      "A lone beachcomber squats among the wrack\n",
      "Now fold their wings like bats and disappear\n",
      "Water will run by; the actual sun\n",
      "White whales are gone with the white ocean.\n",
      "Allá en las tardes que la vida mía\n",
      "Todo dolor me vence, todo sueño;\n",
      "Thoughts that found a maze of mermaid hair\n",
      "De tornarme soberbia, inalcanzable.\n"
     ]
    }
   ],
   "source": [
    "import random\n",
    "print('\\n'.join(random.sample(poem_clean_both, 20)))\n"
   ]
  },
  {
   "cell_type": "markdown",
   "metadata": {},
   "source": [
    "> note 1: \n",
    "too me, both these results (random lines poem and the sonet) are kind of interesting, but not quite yet what I want to do, because my idea is to have phrases combining the two languages, and not just a mix of english phrases and spanish phrases."
   ]
  },
  {
   "cell_type": "markdown",
   "metadata": {},
   "source": [
    "### ... so now i will try to brake through the words and try to connect them in a way that makes sense. "
   ]
  },
  {
   "cell_type": "code",
   "execution_count": 45,
   "metadata": {
    "collapsed": true
   },
   "outputs": [],
   "source": [
    "words_sylvia = open(\"two_lovers_sylvia_plath.txt\").read().split()"
   ]
  },
  {
   "cell_type": "code",
   "execution_count": 46,
   "metadata": {
    "collapsed": true
   },
   "outputs": [],
   "source": [
    "words_alfonsina = open(\"frente_al_mar_alfonsina_storni.txt\").read().split()"
   ]
  },
  {
   "cell_type": "code",
   "execution_count": 47,
   "metadata": {
    "collapsed": true
   },
   "outputs": [],
   "source": [
    "words_both = words_sylvia + words_alfonsina"
   ]
  },
  {
   "cell_type": "code",
   "execution_count": 48,
   "metadata": {
    "collapsed": true
   },
   "outputs": [],
   "source": [
    "words_merge = random.sample(words_both, 100)"
   ]
  },
  {
   "cell_type": "code",
   "execution_count": 53,
   "metadata": {},
   "outputs": [
    {
     "name": "stdout",
     "output_type": "stream",
     "text": [
      "La es que ofenda». vulgaridad the final, Probing la ¡Oh, Blue fatiga siempre la Shuts duele. Que mía what peso! aire soñaba we vulgar? and vence, me entender down su in espuma. now pobre mermaid misión Ah, De bone tus la Mírame vida of skull. y es ser exacting ¡Bendecida horas tornarme Vuele sunken house; esta tu Into abruma, se pero de ser «Piedad, eres, that me un mi me pasé have. extrapolation Mar, la vuele... will their attic las como tent a we Mar, eso, Allá the the in inefable Pequeña Under wave; piedad que el libertarme incontenible the\n"
     ]
    }
   ],
   "source": [
    "print(' '.join(words_merge))"
   ]
  },
  {
   "cell_type": "markdown",
   "metadata": {},
   "source": [
    "> note 2: \n",
    "so, this doesn't make sense at all (which could be interesting but not in this case i think)... so i'm guessing i would need a dictonary? i don't know what this means in python but will try to explore that. "
   ]
  },
  {
   "cell_type": "code",
   "execution_count": 71,
   "metadata": {},
   "outputs": [
    {
     "name": "stdout",
     "output_type": "stream",
     "text": [
      "Desdichada de mí, soy un abrojo,\n",
      "Bajo las horas cálidas se abría...\n",
      "Me falta el aire y donde falta quedo,\n",
      "A lone beachcomber squats among the wrack\n",
      "White whales are gone with the white ocean.\n",
      "Porque entendía, mar, yo me fui dando:\n",
      "Y apenas es cicatriz que siempre duele.\n",
      "De ritmo desigual, corazón malo,\n",
      "We are not what we might be; what we are\n",
      "Dame tu sal, tu yodo, tu fiereza.\n",
      "Quisiera no entender, pero no puedo:\n",
      "Probing fractured Venus with a stick\n",
      "That chucks in backtrack of the wave;\n",
      "¿Ves al vulgar? Ese vulgar me apena,\n",
      "Water will run by; the actual sun\n",
      "Debió ser una arteria incontenible\n",
      "A grain of sand is all we have.\n"
     ]
    }
   ],
   "source": [
    "print('\\n'.join(random.sample(poem_clean_both, 17))) "
   ]
  },
  {
   "cell_type": "code",
   "execution_count": 106,
   "metadata": {},
   "outputs": [],
   "source": [
    "dict_poem_above = {'nouns': ['all','sand','grain','arteria','sun','water','vulgar','wave','backtrack','stick','fractured','venus','sal','yodo','fiereza','abrojo', 'horas','aire', 'lone', 'beachcomber','ocean','mar', 'cicatriz', 'ritmo', 'might','corazón'],\n",
    " 'adjectives': ['incontenible','actual','desdichada', 'cálidas', 'falta','white', 'desigual', 'malo'],\n",
    " 'pronouns': ['mí', 'se', 'me', 'yo', 'what' ],\n",
    " 'prepositions': ['de','bajo', 'donde', 'among'],\n",
    " 'verbs': ['have','is','debió','ser','will','run','apena','ves','chucks','probing','puedo','entender','quisiera','dame','soy','abría','falta','quedo','squats','entendía','fui','dando', 'es', 'duele', 'are','be'],\n",
    " 'articles': ['tu','ese','un', 'las', 'el', 'a', 'the', 'we','una'],\n",
    " 'conjuctions':['y', 'porque', 'que', 'pero', 'with','that'],\n",
    " 'adverbs': ['donde', 'siempre', 'not', 'no','en','of','by']}"
   ]
  },
  {
   "cell_type": "code",
   "execution_count": 115,
   "metadata": {},
   "outputs": [],
   "source": [
    "phrase1 = (random.choice(dict_poem_above[\"articles\"])+\" \") +(random.choice(dict_poem_above[\"nouns\"])+\" \")  +(random.choice(dict_poem_above[\"adjectives\"]))"
   ]
  },
  {
   "cell_type": "code",
   "execution_count": 114,
   "metadata": {},
   "outputs": [
    {
     "data": {
      "text/plain": [
       "'un water incontenible'"
      ]
     },
     "execution_count": 114,
     "metadata": {},
     "output_type": "execute_result"
    }
   ],
   "source": [
    "phrase1 "
   ]
  },
  {
   "cell_type": "code",
   "execution_count": 124,
   "metadata": {},
   "outputs": [],
   "source": [
    "phrase2 = (random.choice(dict_poem_above[\"adverbs\"])+\" \") +(random.choice(dict_poem_above[\"pronouns\"])+\" \")  +(random.choice(dict_poem_above[\"nouns\"])+\" \") + (random.choice(dict_poem_above[\"verbs\"]))"
   ]
  },
  {
   "cell_type": "code",
   "execution_count": 125,
   "metadata": {},
   "outputs": [
    {
     "data": {
      "text/plain": [
       "'donde yo backtrack entender'"
      ]
     },
     "execution_count": 125,
     "metadata": {},
     "output_type": "execute_result"
    }
   ],
   "source": [
    "phrase2"
   ]
  },
  {
   "cell_type": "code",
   "execution_count": 131,
   "metadata": {},
   "outputs": [],
   "source": [
    "phrase3 = (random.choice(dict_poem_above[\"conjuctions\"])+\" \") +(random.choice(dict_poem_above[\"prepositions\"])+\" \")  +(random.choice(dict_poem_above[\"articles\"])+\" \") +(random.choice(dict_poem_above[\"nouns\"]))"
   ]
  },
  {
   "cell_type": "code",
   "execution_count": 132,
   "metadata": {},
   "outputs": [
    {
     "data": {
      "text/plain": [
       "'that bajo we corazón'"
      ]
     },
     "execution_count": 132,
     "metadata": {},
     "output_type": "execute_result"
    }
   ],
   "source": [
    "phrase3"
   ]
  },
  {
   "cell_type": "code",
   "execution_count": 133,
   "metadata": {
    "collapsed": true
   },
   "outputs": [],
   "source": [
    "phrase4= (random.choice(dict_poem_above[\"conjuctions\"])+\" \") +(random.choice(dict_poem_above[\"verbs\"])+\" \")  +(random.choice(dict_poem_above[\"adverbs\"])+\" \") +(random.choice(dict_poem_above[\"nouns\"]))"
   ]
  },
  {
   "cell_type": "code",
   "execution_count": 134,
   "metadata": {},
   "outputs": [
    {
     "data": {
      "text/plain": [
       "'that is siempre venus'"
      ]
     },
     "execution_count": 134,
     "metadata": {},
     "output_type": "execute_result"
    }
   ],
   "source": [
    "phrase4"
   ]
  },
  {
   "cell_type": "code",
   "execution_count": 176,
   "metadata": {},
   "outputs": [
    {
     "name": "stdout",
     "output_type": "stream",
     "text": [
      "\n",
      "me ocean probing\n",
      "un fractured desigual\n",
      "donde yodo might dando\n",
      "y de el yodo\n",
      "porque duele the yodo\n",
      "\n",
      "mí abrojo quisiera\n",
      "we grain desigual\n",
      "not sal abrojo soy\n",
      "that de las might\n",
      "porque debió a stick\n",
      "\n",
      "me water falta\n",
      "una lone desigual\n",
      "en stick water es\n",
      "pero bajo las mar\n",
      "that es we yodo\n",
      "\n",
      "mí vulgar debió\n",
      "el corazón white\n",
      "by might sand debió\n",
      "that de ese sal\n",
      "pero abría una vulgar\n",
      "\n",
      "me grain be\n",
      "the abrojo white\n",
      "en grain all have\n",
      "that donde a arteria\n",
      "with debió a ritmo\n",
      "\n",
      "se water quedo\n",
      "una aire incontenible\n",
      "donde might ritmo debió\n",
      "pero donde una backtrack\n",
      "pero soy un cicatriz\n"
     ]
    }
   ],
   "source": [
    "stanza_count = 6\n",
    "for i in range(stanza_count):\n",
    "    print()\n",
    "    print((random.choice(dict_poem_above[\"pronouns\"])+\" \")  +(random.choice(dict_poem_above[\"nouns\"])+\" \") + (random.choice(dict_poem_above[\"verbs\"])))\n",
    "    print((random.choice(dict_poem_above[\"articles\"])+\" \") +(random.choice(dict_poem_above[\"nouns\"])+\" \")  +(random.choice(dict_poem_above[\"adjectives\"])))\n",
    "    print((random.choice(dict_poem_above[\"adverbs\"])+\" \") +(random.choice(dict_poem_above[\"nouns\"])+\" \")  +(random.choice(dict_poem_above[\"nouns\"])+\" \") + (random.choice(dict_poem_above[\"verbs\"])))\n",
    "    print((random.choice(dict_poem_above[\"conjuctions\"])+\" \") +(random.choice(dict_poem_above[\"prepositions\"])+\" \")  +(random.choice(dict_poem_above[\"articles\"])+\" \") +(random.choice(dict_poem_above[\"nouns\"])))\n",
    "    print((random.choice(dict_poem_above[\"conjuctions\"])+\" \") +(random.choice(dict_poem_above[\"verbs\"])+\" \")  +(random.choice(dict_poem_above[\"articles\"])+\" \") +(random.choice(dict_poem_above[\"nouns\"])))"
   ]
  },
  {
   "cell_type": "markdown",
   "metadata": {},
   "source": [
    "> still not 100% happy with the result, but learned a lot and figuring out the possibilities that the use of dictionaries offered. I think there's a lot more that i could do to make it have more sense of this or to make it more pleasent to read. I guess also with a larger dictionary this too would probably would have more interesting outcomes. "
   ]
  }
 ],
 "metadata": {
  "kernelspec": {
   "display_name": "Python 3",
   "language": "python",
   "name": "python3"
  },
  "language_info": {
   "codemirror_mode": {
    "name": "ipython",
    "version": 3
   },
   "file_extension": ".py",
   "mimetype": "text/x-python",
   "name": "python",
   "nbconvert_exporter": "python",
   "pygments_lexer": "ipython3",
   "version": "3.6.3"
  }
 },
 "nbformat": 4,
 "nbformat_minor": 2
}
