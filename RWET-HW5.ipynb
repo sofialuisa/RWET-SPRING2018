{
 "cells": [
  {
   "cell_type": "markdown",
   "metadata": {},
   "source": [
    "# Trying to use something i don't understand."
   ]
  },
  {
   "cell_type": "markdown",
   "metadata": {},
   "source": [
    "Although i play around with all the notes and prebuild code to run and test, honestly, this was too much for me to grab my head around and since i don't understand very well whats really going on in (I tried!) i could come up with a meaningful use for it.  So for this assignment I just used the tool that i actually understand a little bit more (just a little bit) and made a poem out of it. \n",
    "\n",
    "I'm using Markov chains to analyse a Keeping up with the kardashians episodes . The output phrases looked so solemne and grand, that they made me tought of shakesperian or even medieval texts. So i choose a few lines of the outcomes, and replace some of the word by \"thy\", \"thee\" and \"thyself\". "
   ]
  },
  {
   "cell_type": "markdown",
   "metadata": {},
   "source": [
    "### using my little shmarkov library!\n",
    "\n",
    "download [this file](https://gist.github.com/aparrish/14cb94ce539a868e6b8714dd84003f06) and put it in the same directory as your notebook (call it `markov.py`). then:"
   ]
  },
  {
   "cell_type": "code",
   "execution_count": 3,
   "metadata": {
    "collapsed": true
   },
   "outputs": [],
   "source": [
    "from markov import *"
   ]
  },
  {
   "cell_type": "code",
   "execution_count": 4,
   "metadata": {
    "collapsed": true
   },
   "outputs": [],
   "source": [
    "kard_str = open(\"kardashians-s05e01.txt\").read()"
   ]
  },
  {
   "cell_type": "markdown",
   "metadata": {},
   "source": [
    "This is the code that im running :"
   ]
  },
  {
   "cell_type": "code",
   "execution_count": 62,
   "metadata": {},
   "outputs": [],
   "source": [
    "kard1 = [line.strip() for line in markov_generate_from_lines_in_file(5, open(\"kardashians-s05e01.txt\"), 10, \"char\")]\n",
    "kard2 = [line.strip() for line in markov_generate_from_lines_in_file(4, open(\"kardashians-s05e01.txt\"), 10, \"char\")]\n",
    "kard3 = [line.strip() for line in markov_generate_from_lines_in_file(3, open(\"kardashians-s05e01.txt\"), 10, \"char\")]"
   ]
  },
  {
   "cell_type": "code",
   "execution_count": 63,
   "metadata": {},
   "outputs": [
    {
     "name": "stdout",
     "output_type": "stream",
     "text": [
      "[\"And these that's go get my favorite pasta.\", \"I'd like every night.\", 'As harder.', \"We've been watching extra tickets, baby.\", 'I used to thyr need any help me cleaning into there are just hate stay at my house that is negativity aro', 'All my house.', \"Why? Because I'm married to get anyone come help me clean up.\", 'I rented to make the father own a house.', 'You know, man.', \"I'm just hang some negative energy.\"]\n",
      "[\"And these that's go get my favorite pasta.\", \"thee'd like every night.\", 'As harder.', \"We've been watching extra tickets, baby.\", 'thee used to your need any help me cleaning into there are just hate stay at my house that is negativity aro', 'All my house.', \"Why? Because thee'm married to get anyone come help me clean up.\", 'thee rented to make the father own a house.', 'You know, man.', \"thee'm just hang some negative energy.\"]\n",
      "[\"And thyselfse that's go get my favorite pasta.\", \"I'd like every night.\", 'As harder.', \"We've been watching extra tickets, baby.\", 'I used to your need any help me cleaning into thyselfre are just hate stay at my house that is negativity aro', 'All my house.', \"Why? Because I'm married to get anyone come help me clean up.\", 'I rented to make thyself fathyselfr own a house.', 'You know, man.', \"I'm just hang some negative energy.\"]\n",
      "[\"Kim, it's not what thyr attently.\", \"We us to dating happens everywhere, lamar's in once I'm over, the past to thyr guests coming.\", \"Khloe's here.\", 'If thy out who walk on herselves! That am so see him.', 'How are thy know if negative people.', 'Scott, and I am so ented to do a little ceremony, rent for ever and Kourtney is like piss first.', 'Love thy? What I rent for him.', 'I said Kim, if the was like my single night.', \"And I've broken this is we welcome part this acting about been maybe to be treat! Come say consisters ol\", 'I thinking.']\n",
      "[\"Kim, it's not what your attently.\", \"We us to dating happens everywhere, lamar's in once I'm over, thee past to your guests coming.\", \"Khloe's here.\", 'If you out who walk on herselves! That am so see him.', 'How are you know if negative people.', 'Scott, and I am so ented to do a little ceremony, rent for ever and Kourtney is like piss first.', 'Love you? What I rent for him.', 'I said Kim, if thee was like my single night.', \"And I've broken this is we welcome part this acting about been maybe to be treat! Come say consisters ol\", 'I thinking.']\n",
      "[\"Kim, it's not what your attently.\", \"We us to dating happens everywhere, lamar's in once thyself'm over, the past to your guests coming.\", \"Khloe's here.\", 'thyselff you out who walk on herselves! That am so see him.', 'How are you know if negative people.', 'Scott, and thyself am so ented to do a little ceremony, rent for ever and Kourtney is like piss first.', 'Love you? What thyself rent for him.', 'thyself said Kim, if the was like my single night.', \"And thyself've broken this is we welcome part this acting about been maybe to be treat! Come say consisters ol\", 'thyself thinking.']\n",
      "[\"She's extract.\", 'That.', \"Right, I'll ple have parts think to want help me have wello? So do manymories.\", \"Come is and here's over on anoth it? I was d'oeuvressed totalked of my built 'cause.\", \"It's so ther mean get ideall beautom is lot are thy.\", \"Man up, I'm cleave he because ther, I like to like don't not fronmentionship, the party in out theren't\", \"How don't thy? Up? The securing I'll broke the pers.\", \"I have und I'm little there.\", 'You guys, gready anyone.', 'Kim, ther for hi, what automaturnite.']\n",
      "[\"She's extract.\", 'That.', \"Right, I'll ple have parts think to want help me have wello? So do manymories.\", \"Come is and here's over on anoth it? I was d'oeuvressed totalked of my built 'cause.\", \"It's so theer mean get ideall beautom is lot are you.\", \"Man up, I'm cleave he because theer, I like to like don't not fronmentionship, thee party in out theeren't\", \"How don't you? Up? The securing I'll broke thee pers.\", \"I have und I'm little theere.\", 'You guys, gready anyone.', 'Kim, theer for hi, what automaturnite.']\n",
      "[\"She's extract.\", 'That.', \"Right, thyself'll ple have parts think to want help me have wello? So do manymories.\", \"Come is and here's over on anoth it? thyself was d'oeuvressed totalked of my built 'cause.\", \"thyselft's so ther mean get ideall beautom is lot are you.\", \"Man up, thyself'm cleave he because ther, thyself like to like don't not fronmentionship, the party in out theren't\", \"How don't you? Up? The securing thyself'll broke the pers.\", \"thyself have und thyself'm little there.\", 'You guys, gready anyone.', 'Kim, ther for hi, what automaturnite.']\n"
     ]
    }
   ],
   "source": [
    "print([line.replace(\"you\", \"thy\")  for line in kard1])\n",
    "print([line.replace(\"I\", \"thee\") for line in kard1])\n",
    "print([line.replace(\"the\", \"thyself\") for line in kard1])\n",
    "print([line.replace(\"you\", \"thy\")  for line in kard2])\n",
    "print([line.replace(\"the\", \"thee\") for line in kard2])\n",
    "print([line.replace(\"I\", \"thyself\") for line in kard2])\n",
    "print([line.replace(\"you\", \"thy\")  for line in kard3])\n",
    "print([line.replace(\"the\", \"thee\") for line in kard3])\n",
    "print([line.replace(\"I\", \"thyself\") for line in kard3])"
   ]
  },
  {
   "cell_type": "markdown",
   "metadata": {},
   "source": [
    "and here im colecting interesting outcomes:"
   ]
  },
  {
   "cell_type": "code",
   "execution_count": null,
   "metadata": {
    "collapsed": true
   },
   "outputs": [],
   "source": [
    "kard_final = \"\"\"\\\n",
    "\n",
    "Paws off thy want,\n",
    "can't get out when thy be kind\n",
    "thee think that.\n",
    "invirontrol after, thy do if she's right\n",
    "thy want stand i diving kid!\n",
    "I know what would thy promise.\n",
    "I drove by the maceman\n",
    "I've exactuallow.\n",
    "Ou have a moment,\n",
    "Come game have thy know.\n",
    "Thyself use to membarried too,\n",
    "Comethe suaticall thy are on that,\n",
    "Come say wedding along, I'm here.\n",
    "All right, let's sleep the grass.\n",
    "I down life a him, if thy actingerprinto be rent, \n",
    "I just came before we go! What are thy.\n",
    "Where sprinklers old Lady.\n",
    "Comewhen greater.\n",
    "I am over.\n",
    "\n",
    "\"\"\""
   ]
  },
  {
   "cell_type": "markdown",
   "metadata": {},
   "source": [
    "and now im going to process this colection of interesting outcomes"
   ]
  },
  {
   "cell_type": "code",
   "execution_count": 66,
   "metadata": {
    "collapsed": true
   },
   "outputs": [],
   "source": [
    "##(code in process)\n",
    "## i need to run the markov chain more times to get a bigger selection of interesting outcomes first "
   ]
  },
  {
   "cell_type": "code",
   "execution_count": null,
   "metadata": {
    "collapsed": true
   },
   "outputs": [],
   "source": []
  }
 ],
 "metadata": {
  "kernelspec": {
   "display_name": "Python 3",
   "language": "python",
   "name": "python3"
  },
  "language_info": {
   "codemirror_mode": {
    "name": "ipython",
    "version": 3
   },
   "file_extension": ".py",
   "mimetype": "text/x-python",
   "name": "python",
   "nbconvert_exporter": "python",
   "pygments_lexer": "ipython3",
   "version": "3.6.3"
  }
 },
 "nbformat": 4,
 "nbformat_minor": 2
}
