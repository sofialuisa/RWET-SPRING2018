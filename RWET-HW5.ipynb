{
 "cells": [
  {
   "cell_type": "markdown",
   "metadata": {},
   "source": [
    "# Trying to use something i don't understand."
   ]
  },
  {
   "cell_type": "markdown",
   "metadata": {},
   "source": [
    "Although i play around with all the notes and prebuild code to run and test, honestly, this was too much for me to grab my head around and since i don't understand very well whats really going on in (I tried!) i could come up with a meaningful use for it.  So for this assignment I just used the tool that i actually understand a little bit more (just a little bit) and made a poem out of it. \n",
    "\n",
    "I'm using Markov chains to analyse a Keeping up with the kardashians episodes . The output phrases looked so solemne and grand, that they made me tought of shakesperian or even medieval texts. So i choose a few lines of the outcomes, and replace some of the word by \"thy\", \"thee\" and \"thyself\". "
   ]
  },
  {
   "cell_type": "markdown",
   "metadata": {},
   "source": [
    "### using my little shmarkov library!\n",
    "\n",
    "download [this file](https://gist.github.com/aparrish/14cb94ce539a868e6b8714dd84003f06) and put it in the same directory as your notebook (call it `markov.py`). then:"
   ]
  },
  {
   "cell_type": "code",
   "execution_count": 7,
   "metadata": {
    "collapsed": true
   },
   "outputs": [],
   "source": [
    "from markov import *"
   ]
  },
  {
   "cell_type": "code",
   "execution_count": 8,
   "metadata": {
    "collapsed": true
   },
   "outputs": [],
   "source": [
    "kard_str = open(\"kardashians-s05e01.txt\").read()"
   ]
  },
  {
   "cell_type": "markdown",
   "metadata": {},
   "source": [
    "This is the code that im running :"
   ]
  },
  {
   "cell_type": "code",
   "execution_count": 31,
   "metadata": {},
   "outputs": [],
   "source": [
    "kard1 = [line.strip() for line in markov_generate_from_lines_in_file(5, open(\"kardashians-s05e01.txt\"), 10, \"char\")]\n",
    "kard2 = [line.strip() for line in markov_generate_from_lines_in_file(4, open(\"kardashians-s05e01.txt\"), 10, \"char\")]\n",
    "kard3 = [line.strip() for line in markov_generate_from_lines_in_file(3, open(\"kardashians-s05e01.txt\"), 10, \"char\")]"
   ]
  },
  {
   "cell_type": "code",
   "execution_count": 32,
   "metadata": {},
   "outputs": [
    {
     "name": "stdout",
     "output_type": "stream",
     "text": [
      "[\"Ooh, we probably see each her with Khloe's housewarming.\", \"She's a piece of pizza.\", \"I don't need that's best for thyr couches? Kim, thy've broke up.\", 'All right, ma.', 'They like the guy on the situation.', 'Why? Because Khloe welcome there.', 'We having life, and try it off when I want thy have think this anymore.', 'If thy invite us to see his son, and my shoes off my new boyfriend.', 'Kim? Yeah, that Mason? Mason and thinks that I have person, one bit.', 'On the relationship has a high-pitched voice.']\n",
      "[\"Ooh, we probably see each her with Khloe's housewarming.\", \"She's a piece of pizza.\", \"thee don't need that's best for your couches? Kim, you've broke up.\", 'All right, ma.', 'They like the guy on the situation.', 'Why? Because Khloe welcome there.', 'We having life, and try it off when thee want you have think this anymore.', 'theef you invite us to see his son, and my shoes off my new boyfriend.', 'Kim? Yeah, that Mason? Mason and thinks that thee have person, one bit.', 'On the relationship has a high-pitched voice.']\n",
      "[\"Ooh, we probably see each her with Khloe's housewarming.\", \"She's a piece of pizza.\", \"I don't need that's best for your couches? Kim, you've broke up.\", 'All right, ma.', 'They like thyself guy on thyself situation.', 'Why? Because Khloe welcome thyselfre.', 'We having life, and try it off when I want you have think this anymore.', 'If you invite us to see his son, and my shoes off my new boyfriend.', 'Kim? Yeah, that Mason? Mason and thinks that I have person, one bit.', 'On thyself relationship has a high-pitched voice.']\n",
      "['\" It\\'s these the to do the doing to kiss off.', 'Yeah.', \"Kick all the lamar's the garage.\", \"This is was gonna ever heels 'cause the man that and sister everybody else.\", 'Come in, thy know? Okay, we going while.', 'Okay.', 'Scott set up here.', 'This is always the grab a boob, all this we priority.', 'You just has to a little have a moving extra hang of time.', 'But the bitch! Are thy, thy were we gets only person anymore.']\n",
      "['\" It\\'s theese thee to do thee doing to kiss off.', 'Yeah.', \"Kick all thee lamar's thee garage.\", \"This is was gonna ever heels 'cause thee man that and sister everybody else.\", 'Come in, you know? Okay, we going while.', 'Okay.', 'Scott set up here.', 'This is always thee grab a boob, all this we priority.', 'You just has to a little have a moving extra hang of time.', 'But thee bitch! Are you, you were we gets only person anymore.']\n",
      "['\" thyselft\\'s these the to do the doing to kiss off.', 'Yeah.', \"Kick all the lamar's the garage.\", \"This is was gonna ever heels 'cause the man that and sister everybody else.\", 'Come in, you know? Okay, we going while.', 'Okay.', 'Scott set up here.', 'This is always the grab a boob, all this we priority.', 'You just has to a little have a moving extra hang of time.', 'But the bitch! Are you, you were we gets only person anymore.']\n",
      "[\"Ever house Parted totalk on trying crumbs, I know Scott is now? Yeah? What at who when I'm just Up? Sco\", 'Do thy to better get order gettin.', 'Well, bit.', \"I'm not get there by 10 poing up wish what since, ally goingle not hi, Buddy out Scott heady got the wa\", \"Come wellas! I don't like some us, poing, Buddy? Reall.\", 'Have in our come cate? Just to thy was like not offs, we sad,\" people and wedding.', \"Everybody overyone to thy! Do thy're at I'm twice.\", 'Kour rentionship stuff there.', \"She's now? Kim into live a daddy? Yeah.\", 'Bye.']\n",
      "[\"Ever house Parted totalk on trying crumbs, I know Scott is now? Yeah? What at who when I'm just Up? Sco\", 'Do you to better get order gettin.', 'Well, bit.', \"I'm not get theere by 10 poing up wish what since, ally goingle not hi, Buddy out Scott heady got thee wa\", \"Come wellas! I don't like some us, poing, Buddy? Reall.\", 'Have in our come cate? Just to you was like not offs, we sad,\" people and wedding.', \"Everybody overyone to you! Do you're at I'm twice.\", 'Kour rentionship stuff theere.', \"She's now? Kim into live a daddy? Yeah.\", 'Bye.']\n",
      "[\"Ever house Parted totalk on trying crumbs, thyself know Scott is now? Yeah? What at who when thyself'm just Up? Sco\", 'Do you to better get order gettin.', 'Well, bit.', \"thyself'm not get there by 10 poing up wish what since, ally goingle not hi, Buddy out Scott heady got the wa\", \"Come wellas! thyself don't like some us, poing, Buddy? Reall.\", 'Have in our come cate? Just to you was like not offs, we sad,\" people and wedding.', \"Everybody overyone to you! Do you're at thyself'm twice.\", 'Kour rentionship stuff there.', \"She's now? Kim into live a daddy? Yeah.\", 'Bye.']\n"
     ]
    }
   ],
   "source": [
    "print([line.replace(\"you\", \"thy\")  for line in kard1])\n",
    "print([line.replace(\"I\", \"thee\") for line in kard1])\n",
    "print([line.replace(\"the\", \"thyself\") for line in kard1])\n",
    "print([line.replace(\"you\", \"thy\")  for line in kard2])\n",
    "print([line.replace(\"the\", \"thee\") for line in kard2])\n",
    "print([line.replace(\"I\", \"thyself\") for line in kard2])\n",
    "print([line.replace(\"you\", \"thy\")  for line in kard3])\n",
    "print([line.replace(\"the\", \"thee\") for line in kard3])\n",
    "print([line.replace(\"I\", \"thyself\") for line in kard3])"
   ]
  },
  {
   "cell_type": "markdown",
   "metadata": {},
   "source": [
    "and here im colecting interesting outcomes:"
   ]
  },
  {
   "cell_type": "code",
   "execution_count": 42,
   "metadata": {
    "collapsed": true
   },
   "outputs": [],
   "source": [
    "kard_selections = \"\"\"\\\n",
    "\n",
    "You don't know, bitchile.\n",
    "Paws off thy want,\n",
    "can't get out when thy be kind\n",
    "thee think that.\n",
    "But now, where are thy? Good.\n",
    "Trying this is life.\n",
    "invirontrol after, thy do if she's right\n",
    "thy want stand i diving kid!\n",
    "I know what would thy promise.\n",
    "I drove by the maceman\n",
    "I've exactuallow.\n",
    "Everything I've already.\n",
    "It's exact same was our mind.\n",
    "This justill of turnitially ided as all my red to thy do.\n",
    "Ou have a moment,\n",
    "And thyself this plast this look at, now.\n",
    "Come game have thy know.\n",
    "Thyself use to membarried too,\n",
    "Comethe suaticall thy are on that,\n",
    "Thang livitely pill got enjothy dea\n",
    "Come say wedding along, I'm here.\n",
    "All right, let's sleep the grass.\n",
    "I down life a him, if thy actingerprinto be rent, \n",
    "I just came before we go! What are thy.\n",
    "Where sprinklers old Lady.\n",
    "Comewhen greater.\n",
    "I'll just buzz thy not her.\n",
    "I am over.\n",
    "\n",
    "\"\"\""
   ]
  },
  {
   "cell_type": "markdown",
   "metadata": {},
   "source": [
    "and now im going to process this colection of interesting outcomes"
   ]
  },
  {
   "cell_type": "code",
   "execution_count": 164,
   "metadata": {
    "collapsed": true
   },
   "outputs": [],
   "source": [
    "import random\n",
    "import textwrap\n"
   ]
  },
  {
   "cell_type": "markdown",
   "metadata": {},
   "source": [
    "I created a text file with the selection (kard_selections above)"
   ]
  },
  {
   "cell_type": "code",
   "execution_count": 170,
   "metadata": {},
   "outputs": [],
   "source": [
    "kard_txt = open(\"kard_final.txt\").read()"
   ]
  },
  {
   "cell_type": "code",
   "execution_count": 171,
   "metadata": {},
   "outputs": [
    {
     "data": {
      "text/plain": [
       "\"You don't know, bitchile.\\nPaws off thy want,\\nCan't get out when thy be kind\\nThee think that.\\nBut now, where are thy? Good.\\nTrying this is life.\\nInvirontrol after, thy do if she's right\\nThy want stand I diving kid!\\nI know what would thy promise.\\nI drove by the maceman\\nI've exactuallow.\\nEverything I've already.\\nIt's exact same was our mind.\\nThis justill of turnitially ided as all my red to thy do.\\nOu have a moment,\\nAnd thyself this plast this look at, now.\\nCome game have thy know.\\nThyself use to membarried too,\\nComethe suaticall thy are on that,\\nThang livitely pill got enjothy dea\\nCome say wedding along, I'm here.\\nAll right, let's sleep the grass.\\nI down life a him, if thy actingerprinto be rent, \\nI just came before we go! What are thy.\\nWhere sprinklers old Lady.\\nComewhen greater.\\nI'll just buzz thy not her.\\nI am over.\""
      ]
     },
     "execution_count": 171,
     "metadata": {},
     "output_type": "execute_result"
    }
   ],
   "source": [
    "kard_txt"
   ]
  },
  {
   "cell_type": "code",
   "execution_count": 172,
   "metadata": {},
   "outputs": [],
   "source": [
    "kard_txt_1 = [line.strip() for line in open(\"kard_final.txt\")]"
   ]
  },
  {
   "cell_type": "code",
   "execution_count": 173,
   "metadata": {},
   "outputs": [
    {
     "data": {
      "text/plain": [
       "[\"You don't know, bitchile.\",\n",
       " 'Paws off thy want,',\n",
       " \"Can't get out when thy be kind\",\n",
       " 'Thee think that.',\n",
       " 'But now, where are thy? Good.',\n",
       " 'Trying this is life.',\n",
       " \"Invirontrol after, thy do if she's right\",\n",
       " 'Thy want stand I diving kid!',\n",
       " 'I know what would thy promise.',\n",
       " 'I drove by the maceman',\n",
       " \"I've exactuallow.\",\n",
       " \"Everything I've already.\",\n",
       " \"It's exact same was our mind.\",\n",
       " 'This justill of turnitially ided as all my red to thy do.',\n",
       " 'Ou have a moment,',\n",
       " 'And thyself this plast this look at, now.',\n",
       " 'Come game have thy know.',\n",
       " 'Thyself use to membarried too,',\n",
       " 'Comethe suaticall thy are on that,',\n",
       " 'Thang livitely pill got enjothy dea',\n",
       " \"Come say wedding along, I'm here.\",\n",
       " \"All right, let's sleep the grass.\",\n",
       " 'I down life a him, if thy actingerprinto be rent,',\n",
       " 'I just came before we go! What are thy.',\n",
       " 'Where sprinklers old Lady.',\n",
       " 'Comewhen greater.',\n",
       " \"I'll just buzz thy not her.\",\n",
       " 'I am over.']"
      ]
     },
     "execution_count": 173,
     "metadata": {},
     "output_type": "execute_result"
    }
   ],
   "source": [
    "kard_txt_1"
   ]
  },
  {
   "cell_type": "markdown",
   "metadata": {},
   "source": [
    "And i've randomized it a form of a poem"
   ]
  },
  {
   "cell_type": "code",
   "execution_count": 177,
   "metadata": {},
   "outputs": [
    {
     "name": "stdout",
     "output_type": "stream",
     "text": [
      "\n",
      "All right, let's sleep the grass.\n",
      "Can't get out when thy be kind\n",
      "Where sprinklers old Lady.\n",
      "\n",
      "Come say wedding along, I'm here.\n",
      "Can't get out when thy be kind\n",
      "I down life a him, if thy actingerprinto be rent,\n",
      "Thy want stand I diving kid!\n",
      "\n",
      "And thyself this plast this look at, now.\n",
      "All right, let's sleep the grass.\n",
      "I know what would thy promise.\n",
      "\n",
      "Come game have thy know.\n",
      "Thyself use to membarried too,\n",
      "I just came before we go! What are thy.\n",
      "Everything I've already.\n"
     ]
    }
   ],
   "source": [
    "stanza_count = 2\n",
    "for i in range(stanza_count):\n",
    "    print()\n",
    "    print('\\n'.join(random.sample(kard_txt_1, 3)))\n",
    "    print()\n",
    "    print('\\n'.join(random.sample(kard_txt_1, 4)))"
   ]
  },
  {
   "cell_type": "markdown",
   "metadata": {},
   "source": [
    "> I think i need to run the code a lot of times to get more interesting outcomes, which would let me get a bigger selections of \"interesting\" phrases. But this could probably be optimized with code i just don't know how exactly to do this yet ... 🤔🤔🤔"
   ]
  }
 ],
 "metadata": {
  "kernelspec": {
   "display_name": "Python 3",
   "language": "python",
   "name": "python3"
  },
  "language_info": {
   "codemirror_mode": {
    "name": "ipython",
    "version": 3
   },
   "file_extension": ".py",
   "mimetype": "text/x-python",
   "name": "python",
   "nbconvert_exporter": "python",
   "pygments_lexer": "ipython3",
   "version": "3.6.3"
  }
 },
 "nbformat": 4,
 "nbformat_minor": 2
}
