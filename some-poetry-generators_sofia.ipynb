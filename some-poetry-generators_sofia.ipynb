{
 "cells": [
  {
   "cell_type": "markdown",
   "metadata": {},
   "source": [
    "# Implementations of early and well-known poetry generators\n",
    "\n",
    "By [Allison Parrish](http://www.decontextualize.com/)\n",
    "\n",
    "This notebook has some Python implementations of a number of early and well-known poetry generators, including Knowles and Tenney's *A House of Dust*, Strachey's love letter generator and Nick Montfort's *Taroko Gorge*."
   ]
  },
  {
   "cell_type": "markdown",
   "metadata": {},
   "source": [
    "## To Make a Dadaist Poem\n",
    "\n",
    "Original written by [Tristan Tzara](http://www.391.org/manifestos/1920-dada-manifesto-feeble-love-bitter-love-tristan-tzara.html#.WnPkJYJOndd) in 1920."
   ]
  },
  {
   "cell_type": "markdown",
   "metadata": {},
   "source": [
    "HW Note: \n",
    "The text comes from a productivy log (basically everything I do) I've recently started. "
   ]
  },
  {
   "cell_type": "code",
   "execution_count": 9,
   "metadata": {},
   "outputs": [
    {
     "name": "stdout",
     "output_type": "stream",
     "text": [
      "train bathroom dinner swim dress emails a sleep chat go to\n",
      "have have latte tea go lunch photograph wake snack to food\n",
      "show go in bathroom latte food go the make meditate minute\n",
      "listen email have blog to a have personal dry answer for\n",
      "picture watching watch to have supermarket the go snacks\n",
      "five have green on an subway check have to a dress work the\n",
      "photograph tea laundry do a nap eat snack go pool a prepare\n",
      "chai kitchen a the buy store on buy to to breakfeast to bed\n",
      "get have post watch up friends attack part the eat up a\n",
      "bathroom have a to lunch lunch bar a go have go snack check\n",
      "a tv feed shower get up get go buy almond in the the lunch\n",
      "make pack up and to take photoshop two the an video bag tv\n",
      "movie soy watch a of subway the on class homework put eat\n",
      "shower lunch breakfast meditate posters of bookstore bed\n",
      "clean have the on work class wait buy eat have up the pack\n",
      "post a the strand take recordings boyfriend pack to wake\n",
      "talk with bank fall lunch on do order cup an book a eat up\n",
      "of home go phone music granola go wrong off bathroom a the\n",
      "lemon read social the edit make to prepare a bathroom\n",
      "breakfast with with videochat tranquilizer a make a go a\n",
      "bathroom to go watch back to boyfriend glass to a wake\n",
      "anxiety head out hair get show photoshop dinner clean have\n",
      "cookie wake edit boyfriend media instagram take pills\n",
      "breakfast the milk bath\n"
     ]
    }
   ],
   "source": [
    "import random\n",
    "import textwrap\n",
    "\n",
    "productivitylog = \"\"\"\n",
    "wake up\n",
    "get in the shower\n",
    "dress up\n",
    "take pills\n",
    "have breakfeast\n",
    "pack lunch\n",
    "put on make up\n",
    "read in the subway\n",
    "buy soy milk\n",
    "go to the bathroom\n",
    "have a latte\n",
    "go to class\n",
    "check emails\n",
    "chat with boyfriend\n",
    "post a picture on instagram\n",
    "go to the bathroom\n",
    "eat a granola bar\n",
    "have a cup of tea\n",
    "edit a photograph on photoshop\n",
    "have lunch\n",
    "watch part of a movie\n",
    "have an anxiety attack\n",
    "go to the bank\n",
    "talk on the phone with boyfriend\n",
    "have a five minute nap\n",
    "have a snack\n",
    "go to the bathroom\n",
    "go to work\n",
    "edit a photograph on photoshop\n",
    "order food \n",
    "eat dinner\n",
    "watch a tv show\n",
    "go to the bathroom\n",
    "get off work\n",
    "wait for the subway\n",
    "watch personal video recordings\n",
    "buy a snack\n",
    "take a tranquilizer\n",
    "eat a snack watching friends \n",
    "fall sleep\n",
    "wake up to go to the bathroom\n",
    "go back to bed\n",
    "wake up\n",
    "check social media feed\n",
    "answer an email\n",
    "make breakfast\n",
    "videochat boyfriend\n",
    "eat breakfast\n",
    "clean the bathroom\n",
    "do laundry\n",
    "prepare lunch\n",
    "go to the supermarket\n",
    "go to the pool\n",
    "swim\n",
    "listen to music\n",
    "shower\n",
    "dry hair\n",
    "head home\n",
    "store food\n",
    "have lunch\n",
    "clean the kitchen \n",
    "do homework\n",
    "have dinner\n",
    "watch a tv show\n",
    "wake up\n",
    "have a glass of green tea with lemon\n",
    "meditate\n",
    "have breakfast\n",
    "make a blog post\n",
    "have a bath\n",
    "meditate\n",
    "get dress\n",
    "prepare lunch\n",
    "make bed\n",
    "pack snacks\n",
    "pack bag\n",
    "have lunch\n",
    "get out\n",
    "take the wrong train\n",
    "go to strand bookstore\n",
    "buy a book and two posters\n",
    "buy an almond chai latte\n",
    "go to class\n",
    "eat a cookie\"\"\"\n",
    "\n",
    "words = productivitylog.split()\n",
    "random.shuffle(words)\n",
    "\n",
    "print(textwrap.fill(\" \".join(words), 60))"
   ]
  },
  {
   "cell_type": "markdown",
   "metadata": {},
   "source": [
    "## A House of Dust\n",
    "\n",
    "Original written in Fortran in 1967 by Alison Knowles and James Tenney. [ELMCIP entry](https://elmcip.net/creative-work/house-dust). [More information](http://blog.calarts.edu/2009/09/10/alison-knowles-james-tenney-and-the-house-of-dust-at-calarts/). [Watch Alison Knowles read from this piece](https://www.youtube.com/watch?v=-68Z708lFsY)."
   ]
  },
  {
   "cell_type": "markdown",
   "metadata": {},
   "source": [
    "HW Note:\n",
    "The inputs are inspired by the setting of my new workplace, the Equipment Room at ITP."
   ]
  },
  {
   "cell_type": "code",
   "execution_count": 216,
   "metadata": {
    "collapsed": true
   },
   "outputs": [],
   "source": [
    "import random"
   ]
  },
  {
   "cell_type": "code",
   "execution_count": 82,
   "metadata": {
    "collapsed": true
   },
   "outputs": [],
   "source": [
    "materials = [\n",
    "    'cables',\n",
    "    'cameras',\n",
    "    'tripods',\n",
    "    'computers',\n",
    "    'screens',\n",
    "    'bar codes',\n",
    "    'led lights',\n",
    "    'mouses',\n",
    "    'batteries',\n",
    "    'power cords'\n",
    "]"
   ]
  },
  {
   "cell_type": "code",
   "execution_count": 95,
   "metadata": {
    "collapsed": true
   },
   "outputs": [],
   "source": [
    "locations = [\n",
    "    'in NYU',\n",
    "    'in broadway avenue',\n",
    "    'in Manhattan'\n",
    "]"
   ]
  },
  {
   "cell_type": "code",
   "execution_count": 96,
   "metadata": {
    "collapsed": true
   },
   "outputs": [],
   "source": [
    "lights = [\n",
    "    'flourescent lights'\n",
    "]"
   ]
  },
  {
   "cell_type": "code",
   "execution_count": 97,
   "metadata": {
    "collapsed": true
   },
   "outputs": [],
   "source": [
    "inhabitants = [\n",
    "    'me',\n",
    "    'myself',\n",
    "    'I'\n",
    "]"
   ]
  },
  {
   "cell_type": "code",
   "execution_count": 98,
   "metadata": {},
   "outputs": [
    {
     "name": "stdout",
     "output_type": "stream",
     "text": [
      "\n",
      "A room of screens\n",
      "     in broadway avenue\n",
      "          under flourescent lights\n",
      "                inhabited by I\n",
      "\n",
      "A room of mouses\n",
      "     in NYU\n",
      "          under flourescent lights\n",
      "                inhabited by myself\n",
      "\n",
      "A room of led lights\n",
      "     in broadway avenue\n",
      "          under flourescent lights\n",
      "                inhabited by myself\n",
      "\n",
      "A room of cameras\n",
      "     in NYU\n",
      "          under flourescent lights\n",
      "                inhabited by I\n",
      "\n",
      "A room of screens\n",
      "     in NYU\n",
      "          under flourescent lights\n",
      "                inhabited by myself\n",
      "\n",
      "A room of mouses\n",
      "     in broadway avenue\n",
      "          under flourescent lights\n",
      "                inhabited by I\n",
      "\n",
      "A room of bar codes\n",
      "     in Manhattan\n",
      "          under flourescent lights\n",
      "                inhabited by me\n"
     ]
    }
   ],
   "source": [
    "stanza_count = 7\n",
    "for i in range(stanza_count):\n",
    "    print()\n",
    "    print(\"A room of \" + random.choice(materials))\n",
    "    print(\"     \" + random.choice(locations))\n",
    "    print(\"          under \" + random.choice(lights))\n",
    "    print(\"                inhabited by \" + random.choice(inhabitants))"
   ]
  },
  {
   "cell_type": "markdown",
   "metadata": {},
   "source": [
    "## Love Letter Generator\n",
    "\n",
    "Original by Christopher Strachey, written for the Manchester Mark I in 1952. [Read more here](https://grandtextauto.soe.ucsc.edu/2005/08/01/christopher-strachey-first-digital-artist/).\n",
    "\n",
    "Vocabulary based on [this implementation](https://github.com/gingerbeardman/loveletter/blob/master/index.php)."
   ]
  },
  {
   "cell_type": "markdown",
   "metadata": {},
   "source": [
    "HW Note:\n",
    "I'm gonna try to make a hate letter instead... ¯\\_(ツ)_/¯"
   ]
  },
  {
   "cell_type": "code",
   "execution_count": 63,
   "metadata": {
    "collapsed": true
   },
   "outputs": [],
   "source": [
    "sal_adjs = [\n",
    "    \"Abominable\",\n",
    "    \"Execrable\",\n",
    "    \"Abhorrent\",\n",
    "    \"Repugnant\",\n",
    "    \"Horrible\",\n",
    "    \"Disgraceful\",\n",
    "    \"Shameful\"\n",
    "    \n",
    "]"
   ]
  },
  {
   "cell_type": "code",
   "execution_count": 66,
   "metadata": {
    "collapsed": true
   },
   "outputs": [],
   "source": [
    "sal_nouns = [\n",
    "    \"Shit\",\n",
    "    \"Asshole\",\n",
    "    \"Fartface\",\n",
    "    \"Idiot\",\n",
    "    \"Imbecile\",\n",
    "    \"Douchebag\"\n",
    "]"
   ]
  },
  {
   "cell_type": "code",
   "execution_count": 56,
   "metadata": {
    "collapsed": true
   },
   "outputs": [],
   "source": [
    "adjs = [\n",
    "    'helpless',\n",
    "    'lazy',\n",
    "    'obnoxious',\n",
    "    'pitiful',\n",
    "    'repulsive',\n",
    "    'thoughtless'\n",
    "]"
   ]
  },
  {
   "cell_type": "code",
   "execution_count": 70,
   "metadata": {
    "collapsed": true
   },
   "outputs": [],
   "source": [
    "nouns = [\n",
    "    'disease',\n",
    "    'nausea',\n",
    "    'repulsion',\n",
    "    'vomit',\n",
    "    'shit'\n",
    "]"
   ]
  },
  {
   "cell_type": "code",
   "execution_count": 58,
   "metadata": {
    "collapsed": true
   },
   "outputs": [],
   "source": [
    "advs = [\n",
    "    'lifelessly',\n",
    "    'remorsefully',\n",
    "    'ruthlessly'\n",
    "]"
   ]
  },
  {
   "cell_type": "code",
   "execution_count": 73,
   "metadata": {
    "collapsed": true
   },
   "outputs": [],
   "source": [
    "verbs = [\n",
    "    'hates',\n",
    "    'disgraces',\n",
    "    'shames',\n",
    "    'deslikes',\n",
    "    'dishonors',\n",
    "    'degrades'\n",
    "]"
   ]
  },
  {
   "cell_type": "code",
   "execution_count": 112,
   "metadata": {},
   "outputs": [
    {
     "name": "stdout",
     "output_type": "stream",
     "text": [
      "Execrable Idiot,\n",
      "\n",
      "My lazy shit deslikes your obnoxious disease. My pitiful\n",
      "repulsion ruthlessly disgraces your thoughtless repulsion.\n",
      "You are my pitiful vomit. My nausea deslikes your repulsion.\n",
      "You are my repulsive disease.\n",
      "\n",
      "Yours lifelessly,\n",
      "Sofía by M.U.C.\n"
     ]
    }
   ],
   "source": [
    "# textwrap library used to \"wrap\" the text at a particular length\n",
    "import textwrap\n",
    "\n",
    "# output begins with salutation\n",
    "output = random.choice(sal_adjs) + \" \" + random.choice(sal_nouns) + \",\\n\"\n",
    "output += \"\\n\"\n",
    "\n",
    "# inside this loop, build the phrases. strachey implemented \"short\" phrases\n",
    "# and \"long\" phrases; two or more \"short\" phrases in a row have special\n",
    "# formatting rules, so we need to know what the last phrase kind was in\n",
    "# order to generate the output.\n",
    "history = []\n",
    "body = \"\"\n",
    "for i in range(5):\n",
    "    kind = random.choice([\"short\", \"long\"])\n",
    "    if kind == \"long\":\n",
    "        # adjectives and adverbs will be present only 50% of the time\n",
    "        line = \" \".join([\n",
    "            \"My\",\n",
    "            random.choice([random.choice(adjs), \"\"]),\n",
    "            random.choice(nouns),\n",
    "            random.choice([random.choice(advs), \"\"]),\n",
    "            random.choice(verbs),\n",
    "            \"your\",\n",
    "            random.choice([random.choice(adjs), \"\"]),\n",
    "            random.choice(nouns)])\n",
    "        body += line\n",
    "    else:\n",
    "        adj_noun = random.choice(adjs) + \" \" + random.choice(nouns)\n",
    "        # if the last phrase was \"short,\" use truncated form\n",
    "        if len(history) > 0 and history[-1] == \"short\":\n",
    "            body += \": my \" + adj_noun\n",
    "        else:\n",
    "            body += \"You are my \" + adj_noun\n",
    "    body += \". \"\n",
    "    history.append(kind)\n",
    "# clean up output\n",
    "body = body.replace(\"  \", \" \")\n",
    "body = body.replace(\". :\", \":\")\n",
    "# put everything together\n",
    "output += textwrap.fill(body, 60)\n",
    "output += \"\\n\\nYours \" + random.choice(advs) + \",\\n\"\n",
    "output += \"Sofía by M.U.C.\"\n",
    "print(output)"
   ]
  },
  {
   "cell_type": "markdown",
   "metadata": {},
   "source": [
    "## Taroko Gorge\n",
    "\n",
    "[Original](http://nickm.com/taroko_gorge/) by [Nick Montfort](http://nickm.com/). [ELMCIP entry here](https://elmcip.net/creative-work/taroko-gorge)."
   ]
  },
  {
   "cell_type": "markdown",
   "metadata": {},
   "source": [
    "HW note: For this one, im translating one of my teenage poetry pieces, and fitting parts of it in the input structure.\n",
    "\n",
    "Here is the translation from google translator (i just changed two words from it)\n",
    "\n",
    "GIVE MYSELF AWAY\n",
    "\n",
    "I do not want letters or notes.\n",
    "Take off the violet gray,\n",
    "the little flag of conquest,\n",
    "the perforations,\n",
    "hands, throats\n",
    "and the atlas with its scabs\n",
    "\n",
    "I do not want scaffolding against me.\n",
    "Neither hooks nor terms,\n",
    "give me the skin,\n",
    "pull up the zipper,\n",
    "breathe me the headlands\n",
    "and breath them out to me in the mouth.\n",
    "\n",
    "Unleash the tie\n",
    "look at me in that flipped to the sky of a second you did not even know what\n",
    "and then give me the impregnable vision\n",
    "to introduce myself well\n",
    "Come myself. \n",
    "\n",
    "(Original spanish version is here: http://locadealegriacuerdadedolor.blogspot.com/2009/05/entregame.html)\n",
    "\n",
    "\n"
   ]
  },
  {
   "cell_type": "code",
   "execution_count": 153,
   "metadata": {
    "collapsed": true
   },
   "outputs": [],
   "source": [
    "above = ['letter', 'note', 'conquest', 'perforation', 'hand', 'throat', 'scabs']\n",
    "below = ['skin', 'zipper', 'breathe', 'headland', 'mouth', 'sky', 'second', 'vision']\n",
    "transitive = ['scaffolding', 'hook', 'look', 'give', 'pull', 'take', 'want']\n",
    "imperative = ['do not', 'take off', 'give me', 'pull up', 'breath me', 'breath them']\n",
    "intransitive = ['against', 'unleash', 'look', 'flipped', 'impregnable', 'come', 'tie']\n",
    "texture = ['violet', 'gray', 'atlas']\n",
    "adjectives = ['impregnable', 'violet', 'gray']"
   ]
  },
  {
   "cell_type": "code",
   "execution_count": 154,
   "metadata": {
    "collapsed": true
   },
   "outputs": [],
   "source": [
    "def path():\n",
    "    plural = random.sample([\"s\", \"\"], k=2)\n",
    "    words = random.choice(above)\n",
    "    if words == \"atlas\" and random.randrange(4) == 0:\n",
    "        words = \"monkeys\" + \" \" + random.choice(transitive)\n",
    "    else:\n",
    "        words += plural[0] + \" \" + random.choice(transitive) + plural[1]\n",
    "    words += \" the \" + random.choice(below) + random.choice([\"s\", \"\"]) + \".\"\n",
    "    return words.capitalize()"
   ]
  },
  {
   "cell_type": "code",
   "execution_count": 155,
   "metadata": {
    "collapsed": true
   },
   "outputs": [],
   "source": [
    "def cave():\n",
    "    adjs = adjectives[:] + random.sample(texture, 1)\n",
    "    return \"  \" + random.choice(imperative) + \" \" + \\\n",
    "        \" \".join(random.sample(adjs, random.randrange(1, 4))) + \" —\""
   ]
  },
  {
   "cell_type": "code",
   "execution_count": 156,
   "metadata": {
    "collapsed": true
   },
   "outputs": [],
   "source": [
    "def site():\n",
    "    if random.randrange(2) == 0:\n",
    "        words = random.choice(above)\n",
    "    else:\n",
    "        words = random.choice(below)\n",
    "    words += \"s \" + random.choice(intransitive) + \".\"\n",
    "    return words.capitalize()"
   ]
  },
  {
   "cell_type": "code",
   "execution_count": 157,
   "metadata": {},
   "outputs": [
    {
     "name": "stdout",
     "output_type": "stream",
     "text": [
      "GIVE MYSELF AWAY\n",
      "\n",
      "Perforation hooks the skin.\n",
      "Letter wants the headland.\n",
      "\n",
      "  breath them violet —\n",
      "\n",
      "Scabs gives the zippers.\n",
      "Throat gives the skin.\n",
      "\n",
      "  take off gray gray —\n",
      "\n",
      "Notes pull the skins.\n",
      "Perforations flipped.\n",
      "Hands want the seconds.\n",
      "\n",
      "  breath me gray violet —\n",
      "\n",
      "Letter pulls the zippers.\n",
      "Skins come.\n",
      "Letters scaffolding the breathe.\n",
      "\n",
      "  do not violet gray gray —\n",
      "\n",
      "Hands look the headlands.\n",
      "Mouths flipped.\n",
      "Scabss come.\n",
      "Perforations take the skins.\n",
      "\n",
      "  do not gray violet —\n",
      "\n",
      "Notes want the breathes.\n",
      "Note pulls the mouth.\n",
      "\n",
      "  take off atlas violet —\n",
      "\n",
      "Conquest scaffoldings the headland.\n",
      "Skys impregnable.\n",
      "Letters want the skins.\n",
      "\n",
      "  give me impregnable violet —\n",
      "\n",
      "Letter gives the mouth.\n",
      "Conquests want the mouth.\n",
      "\n",
      "  breath them impregnable —\n",
      "\n",
      "Conquest looks the second.\n",
      "Conquests unleash.\n",
      "Seconds look.\n",
      "Conquests take the zipper.\n",
      "\n",
      "  take off violet gray —\n",
      "\n",
      "Conquest looks the seconds.\n",
      "Scabss tie.\n",
      "Visions come.\n",
      "Perforations pull the zippers.\n",
      "\n",
      "  pull up violet gray —\n",
      "\n"
     ]
    }
   ],
   "source": [
    "print('GIVE MYSELF AWAY')\n",
    "print('')\n",
    "stanza_count = 10\n",
    "for repeat in range(stanza_count):\n",
    "    line_count = random.randrange(3, 6)\n",
    "    for i in range(line_count):\n",
    "        if i == 0:\n",
    "            print(path())\n",
    "        elif i == line_count - 2:\n",
    "            print(path())\n",
    "        elif i == line_count - 1:\n",
    "            print()\n",
    "            print(cave())\n",
    "            print()\n",
    "        else:\n",
    "            print(site())"
   ]
  }
 ],
 "metadata": {
  "kernelspec": {
   "display_name": "Python 3",
   "language": "python",
   "name": "python3"
  },
  "language_info": {
   "codemirror_mode": {
    "name": "ipython",
    "version": 3
   },
   "file_extension": ".py",
   "mimetype": "text/x-python",
   "name": "python",
   "nbconvert_exporter": "python",
   "pygments_lexer": "ipython3",
   "version": "3.6.3"
  }
 },
 "nbformat": 4,
 "nbformat_minor": 2
}
